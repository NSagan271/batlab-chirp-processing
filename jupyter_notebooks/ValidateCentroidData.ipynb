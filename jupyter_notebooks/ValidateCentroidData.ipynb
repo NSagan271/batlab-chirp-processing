{
 "cells": [
  {
   "cell_type": "markdown",
   "id": "74a96bd6-095e-4a7a-94b9-2cdee616bd85",
   "metadata": {},
   "source": [
    "# Validating Centroid Data\n",
    "\n",
    "This is a short notebook for you to sanity-check that the centroid data looks correct, i.e., that the distance from the bat to each microphone matches the order in which the chirps reach the microphones.\n",
    "\n",
    "If you haven't gone throug the **Step 0: Prerequisites** part of `Walkthrough.ipynb` notebook, please do so before running this notebook."
   ]
  },
  {
   "cell_type": "code",
   "execution_count": null,
   "id": "f35ac3c4-ff24-4be7-a3b1-599b3e03572d",
   "metadata": {},
   "outputs": [],
   "source": [
    "import Pkg;\n",
    "Pkg.develop(path=\"../BatlabJuliaUtils\");\n",
    "using BatlabJuliaUtils;\n",
    "using Plots;\n",
    "using Printf;\n",
    "using MAT;\n",
    "using Statistics;\n",
    "using Roots;\n",
    "using DataInterpolations;\n",
    "using DSP;\n",
    "using WAV;\n",
    "\n",
    "PLOT_COLORS = [27, 209, 34, 170, 136, 30, 204, 172];"
   ]
  },
  {
   "cell_type": "markdown",
   "id": "3625ae4f-d26b-430b-801c-bc39120997ea",
   "metadata": {},
   "source": [
    "## Specify MAT Files"
   ]
  },
  {
   "cell_type": "code",
   "execution_count": null,
   "id": "ea2ad3ca-f890-4adf-8270-15d05d2bb7ab",
   "metadata": {},
   "outputs": [],
   "source": [
    "AUDIO_FILENAME = \"../data/Pu166_02.mat\";\n",
    "CENTROID_FILENAME = \"../data/centroid/Pu166_002_centroidxyz.mat\";\n",
    "MIC_POSITION_FILENAME = \"../data/mic_positions_fall2021.mat\";\n",
    "\n",
    "CENTROID_VARIABLE_NAME = collect(keys(matread(CENTROID_FILENAME)))[1];\n",
    "MIC_POSITION_VARIABLE_NAME = collect(keys(matread(MIC_POSITION_FILENAME)))[1];"
   ]
  },
  {
   "cell_type": "code",
   "execution_count": null,
   "id": "b39c6d75-58c8-43e9-b17c-93b7aded3ac0",
   "metadata": {},
   "outputs": [],
   "source": [
    "(@printf \"Do the variable names for these MAT files look right?\\n\\tFor the centroid file: \\\"%s\\\",\\n\\tand for the mic position file: \\\"%s\\\"\" CENTROID_VARIABLE_NAME MIC_POSITION_VARIABLE_NAME)"
   ]
  },
  {
   "cell_type": "markdown",
   "id": "0680374d-d537-4113-86cf-ffea00a5da96",
   "metadata": {},
   "source": [
    "If the variable names for the MAT files don't look right, then uncomment and run the following two cells."
   ]
  },
  {
   "cell_type": "code",
   "execution_count": null,
   "id": "a4b79167-9d5b-4b3b-83f7-5fe465a2bff4",
   "metadata": {},
   "outputs": [],
   "source": [
    "# println(\"The keys of the centroid file are:\\n\", keys(matread(CENTROID_FILENAME)), \"\\nand the MAT file looks like\")\n",
    "# centroids = matread(CENTROID_FILENAME)"
   ]
  },
  {
   "cell_type": "code",
   "execution_count": null,
   "id": "22d65a45-70fe-4c50-baa2-9cbe8ca50629",
   "metadata": {},
   "outputs": [],
   "source": [
    "# println(\"The keys of the mic position file are:\\n\", keys(matread(MIC_POSITION_FILENAME)), \"\\nand the MAT file looks like\")\n",
    "# mic_locations = matread(MIC_POSITION_FILENAME)"
   ]
  },
  {
   "cell_type": "markdown",
   "id": "87718951-7f85-450e-93a8-70b4672ffda0",
   "metadata": {},
   "source": [
    "## Read Audio and Centroid Data"
   ]
  },
  {
   "cell_type": "code",
   "execution_count": null,
   "id": "86c0b8d1-6f5a-4e17-8285-d47986fbbb4b",
   "metadata": {},
   "outputs": [],
   "source": [
    "y = readmicdata(AUDIO_FILENAME);"
   ]
  },
  {
   "cell_type": "code",
   "execution_count": null,
   "id": "43dfef30-d03b-44f0-aaf3-ece2e10e4507",
   "metadata": {},
   "outputs": [],
   "source": [
    "centroids = matread(CENTROID_FILENAME)[CENTROID_VARIABLE_NAME];\n",
    "if size(centroids, 1) == 3\n",
    "    centroids = Matrix(transpose(centroids));\n",
    "end\n",
    "centroids[end-9:end, :]"
   ]
  },
  {
   "cell_type": "code",
   "execution_count": null,
   "id": "0cab7106-0887-419d-a805-263a9b49c820",
   "metadata": {},
   "outputs": [],
   "source": [
    "mic_positions = matread(MIC_POSITION_FILENAME)[MIC_POSITION_VARIABLE_NAME];\n",
    "if size(mic_positions, 1) == 3\n",
    "    mic_positions = Matrix(transpose(mic_positions));\n",
    "end\n",
    "mic_positions"
   ]
  },
  {
   "cell_type": "code",
   "execution_count": null,
   "id": "54de8791-2153-4f85-9070-4bd3bd8e3427",
   "metadata": {},
   "outputs": [],
   "source": [
    "first_non_nan_idx = findfirst(.~isnan.(centroids[:, 1]));\n",
    "first_non_nan_time = 1000*videoindextosec(first_non_nan_idx, size(centroids, 1));\n",
    "(@printf \"First time where the centroid data is not NaN: %d milliseconds\\n\" first_non_nan_time)"
   ]
  },
  {
   "cell_type": "markdown",
   "id": "2d582378-ba6d-48c8-8233-010cd64671d6",
   "metadata": {},
   "source": [
    "## Get the distance of the bat to each microphone\n",
    "\n",
    "The distance in millimeters of the bat to each microphone, for each index of the centroid data, is stored in `distance_to_mics`. Each column represents a different microphone."
   ]
  },
  {
   "cell_type": "code",
   "execution_count": null,
   "id": "7759c9b9-163b-4aa5-8a96-323e2958373c",
   "metadata": {},
   "outputs": [],
   "source": [
    "n_mics = size(mic_positions, 1);\n",
    "distance_to_mics = zeros(size(centroids, 1), n_mics);\n",
    "for i=1:n_mics\n",
    "    distance_to_mics[:, i] = distancefrommic(centroids, mic_positions, i);\n",
    "end"
   ]
  },
  {
   "cell_type": "markdown",
   "id": "53c3d41e-79ed-44d9-91a0-53c1c2c4e1a1",
   "metadata": {},
   "source": [
    "## Which microphone should the chirps reach first?\n",
    "\n",
    "The following function determines the order in which the each microphone should hear the vocalizations (according to `distance_to_mics`).\n",
    "\n",
    "Note that the times are in milliseconds since the beginning of the audio data we just read in."
   ]
  },
  {
   "cell_type": "code",
   "execution_count": null,
   "id": "1599a68f-3057-4f76-9247-25928101f592",
   "metadata": {},
   "outputs": [],
   "source": [
    "function getexpectedchirporder(distance_to_mics::Matrix, start_millis::Real, stop_millis::Real)\n",
    "    L_video = size(distance_to_mics, 1);\n",
    "    video_idxs = sectovideoindex(start_millis/1000, L_video):sectovideoindex(stop_millis/1000, L_video);\n",
    "    n_mics = size(distance_to_mics, 2);\n",
    "\n",
    "    section_start_idx=video_idxs[1];\n",
    "    ordering = sortperm(distance_to_mics[section_start_idx, :]);\n",
    "    for i=video_idxs[2:end]\n",
    "        new_ordering = sortperm(distance_to_mics[i, :]);\n",
    "        if new_ordering != ordering \n",
    "            @printf \"For vocalizations from %d to %d millis, the chirp should reach the microphones in the order: \" round(videoindextosec(section_start_idx, L_video)*1000) round(videoindextosec(i-1, L_video)*1000)\n",
    "            [printstyled(string(ordering[k]) * \" \", color=PLOT_COLORS[ordering[k]], bold=true) for k=1:n_mics]\n",
    "            println();\n",
    "            section_start_idx = i;\n",
    "        end\n",
    "        ordering = new_ordering;\n",
    "    end\n",
    "    @printf \"For vocalizations from %d to %d millis, the chirp should reach the microphones in the order: \" round(videoindextosec(section_start_idx, L_video)*1000) stop_millis\n",
    "    [printstyled(string(ordering[k]) * \" \", color=PLOT_COLORS[ordering[k]], bold=true) for k=1:n_mics]\n",
    "    println();\n",
    "end"
   ]
  },
  {
   "cell_type": "code",
   "execution_count": null,
   "id": "fefda78b-426a-4d85-98b9-fb27c16b489f",
   "metadata": {},
   "outputs": [],
   "source": [
    "getexpectedchirporder(distance_to_mics, first_non_nan_time, 8000)"
   ]
  },
  {
   "cell_type": "markdown",
   "id": "d1ab15ee-30ca-4331-9ed0-e527e728ab33",
   "metadata": {},
   "source": [
    "You can use `plotmicdata` on any time segment to verify whether this seems reasonable."
   ]
  },
  {
   "cell_type": "code",
   "execution_count": null,
   "id": "cb1b8fc9-b172-458e-9a99-41099e49a437",
   "metadata": {},
   "outputs": [],
   "source": [
    "## CHANGE START_MILLIS AND STOP_MILLIS TO THE TIMES YOU WANT\n",
    "START_MILLIS = first_non_nan_time;\n",
    "STOP_MILLIS = first_non_nan_time+300;\n",
    "############################################################\n",
    "\n",
    "plotmicdata(Int64(round(START_MILLIS/1000*FS)):Int64(round(STOP_MILLIS/1000*FS)), y, size=(1500, 300))"
   ]
  },
  {
   "cell_type": "markdown",
   "id": "cc6cf86e-e501-4cf8-8dc3-e7429a741f44",
   "metadata": {},
   "source": [
    "## Plot the microphone data alongside the distances\n",
    "\n",
    "The follow function takes in a time range (in milliseconds since the beginning of the audio data stored in `y`) and plots the microphone data directly underneath the distance from each microphone.\n",
    "Here, you can visually verify that the chirp reaches the closer microphones first."
   ]
  },
  {
   "cell_type": "code",
   "execution_count": null,
   "id": "8583253e-5e5f-4c9b-b4db-1fe20a657c2d",
   "metadata": {},
   "outputs": [],
   "source": [
    "function plotdistanceandoscillogram(distance_to_mics::Matrix, mic_data::Matrix, start_millis::Real, stop_millis::Real)\n",
    "    L_video = size(distance_to_mics, 1);\n",
    "    video_idxs = sectovideoindex(start_millis/1000, L_video):sectovideoindex(stop_millis/1000, L_video);\n",
    "    audio_idxs = Int(round(start_millis/1000*FS)):Int(round(stop_millis/1000*FS));\n",
    "\n",
    "    video_plot_millis = 1000 .* videoindextosec.(video_idxs, L_video);\n",
    "    p1 = myplot(video_plot_millis, distance_to_mics[video_idxs, :], xlabel=\"Milliseconds\", ylabel=\"Distance (millimeters)\", title=\"Distance from each microphone\", linewidth=1.5, yrange=(0, 6000));\n",
    "    p2 = plotmicdata(audio_idxs, mic_data)\n",
    "    return plot(p1, p2, layout=(2, 1), size=(1500, 500))\n",
    "end"
   ]
  },
  {
   "cell_type": "code",
   "execution_count": null,
   "id": "183d51e2-7323-46a2-853c-a8ebe4e2a4ee",
   "metadata": {},
   "outputs": [],
   "source": [
    "## CHANGE START_MILLIS AND STOP_MILLIS TO THE TIMES YOU WANT\n",
    "START_MILLIS = first_non_nan_time;\n",
    "STOP_MILLIS = first_non_nan_time+300;\n",
    "############################################################\n",
    "\n",
    "plotdistanceandoscillogram(distance_to_mics, y, START_MILLIS, STOP_MILLIS)"
   ]
  },
  {
   "cell_type": "code",
   "execution_count": null,
   "id": "6a224d29-91d6-41f0-bca9-0ca13db5349f",
   "metadata": {},
   "outputs": [],
   "source": []
  }
 ],
 "metadata": {
  "kernelspec": {
   "display_name": "Julia 1.9.3",
   "language": "julia",
   "name": "julia-1.9"
  },
  "language_info": {
   "file_extension": ".jl",
   "mimetype": "application/julia",
   "name": "julia",
   "version": "1.9.3"
  }
 },
 "nbformat": 4,
 "nbformat_minor": 5
}
